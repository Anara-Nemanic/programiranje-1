{
 "cells": [
  {
   "cell_type": "markdown",
   "metadata": {},
   "source": [
    "# Učinki"
   ]
  },
  {
   "cell_type": "markdown",
   "metadata": {},
   "source": [
    "## Končni avtomati s prehodno funkcijo"
   ]
  },
  {
   "cell_type": "code",
   "execution_count": 2,
   "metadata": {
    "vscode": {
     "languageId": "ocaml"
    }
   },
   "outputs": [
    {
     "data": {
      "text/plain": [
       "type stanje = string\n"
      ]
     },
     "execution_count": 2,
     "metadata": {},
     "output_type": "execute_result"
    }
   ],
   "source": [
    "type stanje = string"
   ]
  },
  {
   "cell_type": "code",
   "execution_count": 7,
   "metadata": {
    "vscode": {
     "languageId": "ocaml"
    }
   },
   "outputs": [
    {
     "data": {
      "text/plain": [
       "type fsm = {\n",
       "  stanja : stanje list;\n",
       "  zacetno_stanje : stanje;\n",
       "  sprejemna_stanja : stanje list;\n",
       "  prehodna_funkcija : stanje -> char -> stanje;\n",
       "}\n"
      ]
     },
     "execution_count": 7,
     "metadata": {},
     "output_type": "execute_result"
    }
   ],
   "source": [
    "type fsm = {\n",
    "  stanja : stanje list;\n",
    "  zacetno_stanje : stanje;\n",
    "  sprejemna_stanja : stanje list;\n",
    "  prehodna_funkcija : stanje -> char -> stanje\n",
    "}"
   ]
  },
  {
   "cell_type": "code",
   "execution_count": 8,
   "metadata": {
    "vscode": {
     "languageId": "ocaml"
    }
   },
   "outputs": [
    {
     "data": {
      "text/plain": [
       "val ravno_prav_nicel : fsm =\n",
       "  {stanja = [\"ostanek 0\"; \"ostanek 1\"; \"ostanek 2\"];\n",
       "   zacetno_stanje = \"ostanek 0\"; sprejemna_stanja = [\"ostanek 1\"];\n",
       "   prehodna_funkcija = <fun>}\n"
      ]
     },
     "execution_count": 8,
     "metadata": {},
     "output_type": "execute_result"
    }
   ],
   "source": [
    "let ravno_prav_nicel =\n",
    "  let q0 = \"ostanek 0\"\n",
    "  and q1 = \"ostanek 1\"\n",
    "  and q2 = \"ostanek 2\"\n",
    "  in\n",
    "  let prehodna_funkcija q c =\n",
    "    match c with\n",
    "    | '0' when q = q0 -> q1\n",
    "    | '0' when q = q1 -> q2\n",
    "    | '0' when q = q2 -> q0\n",
    "    | '1' -> q\n",
    "    | _ -> failwith \"Neveljaven prehod\"\n",
    "  in\n",
    "  {\n",
    "    stanja = [q0; q1; q2];\n",
    "    zacetno_stanje = q0;\n",
    "    sprejemna_stanja = [q1];\n",
    "    prehodna_funkcija = prehodna_funkcija\n",
    "  }"
   ]
  },
  {
   "cell_type": "markdown",
   "metadata": {},
   "source": [
    "## Končni avtomati s seznamom prehodov"
   ]
  },
  {
   "cell_type": "code",
   "execution_count": 3,
   "metadata": {
    "vscode": {
     "languageId": "ocaml"
    }
   },
   "outputs": [
    {
     "data": {
      "text/plain": [
       "type fsm = {\n",
       "  stanja : stanje list;\n",
       "  zacetno_stanje : stanje;\n",
       "  sprejemna_stanja : stanje list;\n",
       "  prehodi : (stanje * char * stanje) list;\n",
       "}\n"
      ]
     },
     "execution_count": 3,
     "metadata": {},
     "output_type": "execute_result"
    }
   ],
   "source": [
    "type fsm = {\n",
    "  stanja : stanje list;\n",
    "  zacetno_stanje : stanje;\n",
    "  sprejemna_stanja : stanje list;\n",
    "  prehodi : (stanje * char * stanje) list\n",
    "}"
   ]
  },
  {
   "cell_type": "code",
   "execution_count": 4,
   "metadata": {
    "vscode": {
     "languageId": "ocaml"
    }
   },
   "outputs": [
    {
     "data": {
      "text/plain": [
       "val ravno_prav_nicel : fsm =\n",
       "  {stanja = [\"ostanek 0\"; \"ostanek 1\"; \"ostanek 2\"];\n",
       "   zacetno_stanje = \"ostanek 0\"; sprejemna_stanja = [\"ostanek 1\"];\n",
       "   prehodi =\n",
       "    [(\"ostanek 0\", '0', \"ostanek 1\"); (\"ostanek 1\", '0', \"ostanek 2\");\n",
       "     (\"ostanek 2\", '0', \"ostanek 0\"); (\"ostanek 0\", '1', \"ostanek 0\");\n",
       "     (\"ostanek 1\", '1', \"ostanek 1\"); (\"ostanek 2\", '1', \"ostanek 2\")]}\n"
      ]
     },
     "execution_count": 4,
     "metadata": {},
     "output_type": "execute_result"
    }
   ],
   "source": [
    "let ravno_prav_nicel =\n",
    "  let q0 = \"ostanek 0\"\n",
    "  and q1 = \"ostanek 1\"\n",
    "  and q2 = \"ostanek 2\"\n",
    "  in\n",
    "  let prehodi = [\n",
    "    (q0, '0', q1);\n",
    "    (q1, '0', q2);\n",
    "    (q2, '0', q0);\n",
    "    (q0, '1', q0);\n",
    "    (q1, '1', q1);\n",
    "    (q2, '1', q2);\n",
    "  ]\n",
    "  in\n",
    "  {\n",
    "    stanja = [q0; q1; q2];\n",
    "    zacetno_stanje = q0;\n",
    "    sprejemna_stanja = [q1];\n",
    "    prehodi = prehodi\n",
    "  }"
   ]
  },
  {
   "cell_type": "code",
   "execution_count": null,
   "metadata": {
    "vscode": {
     "languageId": "ocaml"
    }
   },
   "outputs": [
    {
     "data": {
      "text/plain": [
       "val vsebuje_samo_nicle : fsm =\n",
       "  {stanja = [\"ima 1\"; \"nima 1\"]; zacetno_stanje = \"nima 1\";\n",
       "   sprejemna_stanja = [\"nima 1\"];\n",
       "   prehodi =\n",
       "    [(\"nima 1\", '0', \"nima 1\"); (\"nima 1\", '1', \"ima 1\");\n",
       "     (\"ima 1\", '0', \"ima 1\"); (\"ima 1\", '1', \"ima 1\")]}\n"
      ]
     },
     "metadata": {},
     "output_type": "display_data"
    }
   ],
   "source": [
    "let vsebuje_samo_nicle =\n",
    "  let ima_enke = \"ima 1\"\n",
    "  and nima_enk = \"nima 1\"\n",
    "  in\n",
    "  {\n",
    "  stanja = [ima_enke; nima_enk];\n",
    "  zacetno_stanje = nima_enk;\n",
    "  sprejemna_stanja = [nima_enk];\n",
    "  prehodi = [\n",
    "    (nima_enk, '0', nima_enk);\n",
    "    (nima_enk, '1', ima_enke);\n",
    "    (ima_enke, '0', ima_enke);\n",
    "    (ima_enke, '1', ima_enke);\n",
    "  ]\n",
    "}"
   ]
  },
  {
   "cell_type": "code",
   "execution_count": 5,
   "metadata": {
    "vscode": {
     "languageId": "ocaml"
    }
   },
   "outputs": [
    {
     "data": {
      "text/plain": [
       "val prehodna_funkcija : fsm -> stanje -> char -> stanje = <fun>\n"
      ]
     },
     "execution_count": 5,
     "metadata": {},
     "output_type": "execute_result"
    }
   ],
   "source": [
    "let prehodna_funkcija m q c =\n",
    "  let (_, _, q') = List.find (fun (q1, c', q2) -> q1 = q && c = c') m.prehodi in\n",
    "  q'"
   ]
  },
  {
   "cell_type": "code",
   "execution_count": 25,
   "metadata": {
    "vscode": {
     "languageId": "ocaml"
    }
   },
   "outputs": [
    {
     "data": {
      "text/plain": [
       "val ali_sprejema_niz : fsm -> string -> bool = <fun>\n"
      ]
     },
     "execution_count": 25,
     "metadata": {},
     "output_type": "execute_result"
    }
   ],
   "source": [
    "let ali_sprejema_niz m s =\n",
    "  let koncno_stanje = String.fold_left (prehodna_funkcija m) m.zacetno_stanje s in\n",
    "  List.mem koncno_stanje m.sprejemna_stanja"
   ]
  },
  {
   "cell_type": "code",
   "execution_count": 30,
   "metadata": {
    "vscode": {
     "languageId": "ocaml"
    }
   },
   "outputs": [
    {
     "data": {
      "text/plain": [
       "- : bool = true\n"
      ]
     },
     "execution_count": 30,
     "metadata": {},
     "output_type": "execute_result"
    }
   ],
   "source": [
    "ali_sprejema_niz ravno_prav_nicel \"011110010\""
   ]
  },
  {
   "cell_type": "code",
   "execution_count": 35,
   "metadata": {
    "vscode": {
     "languageId": "ocaml"
    }
   },
   "outputs": [
    {
     "data": {
      "text/plain": [
       "- : bool = true\n"
      ]
     },
     "execution_count": 35,
     "metadata": {},
     "output_type": "execute_result"
    }
   ],
   "source": [
    "ali_sprejema_niz vsebuje_samo_nicle \"0000000\""
   ]
  }
 ],
 "metadata": {
  "kernelspec": {
   "display_name": "OCaml default",
   "language": "OCaml",
   "name": "ocaml-jupyter"
  },
  "language_info": {
   "codemirror_mode": "text/x-ocaml",
   "file_extension": ".ml",
   "mimetype": "text/x-ocaml",
   "name": "OCaml",
   "nbconverter_exporter": null,
   "pygments_lexer": "OCaml",
   "version": "4.14.1"
  }
 },
 "nbformat": 4,
 "nbformat_minor": 2
}
